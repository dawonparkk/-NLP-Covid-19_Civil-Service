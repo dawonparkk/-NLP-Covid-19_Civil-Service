{
 "metadata": {
  "language_info": {
   "codemirror_mode": {
    "name": "ipython",
    "version": 3
   },
   "file_extension": ".py",
   "mimetype": "text/x-python",
   "name": "python",
   "nbconvert_exporter": "python",
   "pygments_lexer": "ipython3",
   "version": "3.6.12-final"
  },
  "orig_nbformat": 2,
  "kernelspec": {
   "name": "python361064bitpython3conda0e6889139b914ed2aa2db2ca94346f2e",
   "display_name": "Python 3.6.10 64-bit ('python3': conda)",
   "language": "python"
  }
 },
 "nbformat": 4,
 "nbformat_minor": 2,
 "cells": [
  {
   "source": [
    "# COVID-19와 서울 민원"
   ],
   "cell_type": "markdown",
   "metadata": {}
  },
  {
   "source": [
    "## 기본 테이블"
   ],
   "cell_type": "markdown",
   "metadata": {}
  },
  {
   "cell_type": "code",
   "execution_count": 1,
   "metadata": {},
   "outputs": [],
   "source": [
    "import pandas as pd\n",
    "import dask as dd\n",
    "import pickle"
   ]
  },
  {
   "cell_type": "code",
   "execution_count": 2,
   "metadata": {},
   "outputs": [],
   "source": [
    "with open('dasan_structured.bin','rb') as f:\n",
    "    df = pickle.load(f)"
   ]
  },
  {
   "cell_type": "code",
   "execution_count": 3,
   "metadata": {},
   "outputs": [
    {
     "output_type": "execute_result",
     "data": {
      "text/plain": [
       "                    datetime ctype regist1     regist2          rdepart  \\\n",
       "serial                                                                    \n",
       "10819001 2019-01-01 00:00:00  일반민원     모바일        민원상담  시민소통기획관 시민봉사담당관   \n",
       "10827023 2019-01-02 20:57:26  일반민원     모바일        민원상담  시민소통기획관 시민봉사담당관   \n",
       "10818985 2018-12-31 23:54:48  일반민원     모바일        민원상담  시민소통기획관 시민봉사담당관   \n",
       "10818989 2018-12-31 23:55:56  일반민원     모바일        민원상담  시민소통기획관 시민봉사담당관   \n",
       "10818987 2018-12-31 23:55:28  일반민원     모바일        민원상담  시민소통기획관 시민봉사담당관   \n",
       "...                      ...   ...     ...         ...              ...   \n",
       "15396069 2020-12-31 22:54:45  현장민원   다산콜재단  스마트불편신고(앱)    120다산콜재단 운영본부   \n",
       "15396128 2020-12-31 23:29:47  현장민원   다산콜재단  스마트불편신고(앱)    120다산콜재단 운영본부   \n",
       "15395980 2020-12-31 22:09:42  현장민원   다산콜재단    120 문자상담    120다산콜재단 운영본부   \n",
       "15396039 2020-12-31 22:34:43  현장민원   다산콜재단  스마트불편신고(앱)    120다산콜재단 운영본부   \n",
       "15396035 2020-12-31 22:34:44  현장민원   다산콜재단  스마트불편신고(앱)    120다산콜재단 운영본부   \n",
       "\n",
       "                    pdepart        cate1       cate2  \\\n",
       "serial                                                 \n",
       "10819001        도시계획국 도시계획과  주택/도시계획/부동산      지구단위계획   \n",
       "10827023        도시계획국 도시계획과  주택/도시계획/부동산      지구단위계획   \n",
       "10818985        도시계획국 도시계획과  주택/도시계획/부동산      지구단위계획   \n",
       "10818989        도시계획국 도시계획과  주택/도시계획/부동산      지구단위계획   \n",
       "10818987        도시계획국 도시계획과  주택/도시계획/부동산      지구단위계획   \n",
       "...                     ...          ...         ...   \n",
       "15396069    동작구 생활환경국 주차관리과           교통  불법주정차(구도로)   \n",
       "15396128           서대문구 당직실           교통  불법주정차(구도로)   \n",
       "15395980  중랑구 안전건설교통국 주차관리과           교통  불법주정차(구도로)   \n",
       "15396039    마포구 교통건설국 교통지도과           교통  불법주정차(구도로)   \n",
       "15396035    마포구 교통건설국 교통지도과           교통  불법주정차(구도로)   \n",
       "\n",
       "                                cate3 dist1 dist2 regist_method  \\\n",
       "serial                                                            \n",
       "10819001  공동주택 건립을 위한 지구단위계획 수립(의제처리)    본청   양천구           인터넷   \n",
       "10827023  공동주택 건립을 위한 지구단위계획 수립(의제처리)    본청   양천구           인터넷   \n",
       "10818985  공동주택 건립을 위한 지구단위계획 수립(의제처리)    본청   양천구           인터넷   \n",
       "10818989  공동주택 건립을 위한 지구단위계획 수립(의제처리)    본청   양천구           인터넷   \n",
       "10818987  공동주택 건립을 위한 지구단위계획 수립(의제처리)    본청   양천구           인터넷   \n",
       "...                               ...   ...   ...           ...   \n",
       "15396069                          동작구   동작구   동작구           인터넷   \n",
       "15396128                         서대문구  서대문구  서대문구           인터넷   \n",
       "15395980                          중랑구   중랑구   중랑구           인터넷   \n",
       "15396039                          마포구   마포구   마포구           인터넷   \n",
       "15396035                          마포구   마포구   마포구           인터넷   \n",
       "\n",
       "                           X                   Y  \n",
       "serial                                            \n",
       "10819001                                          \n",
       "10827023                                          \n",
       "10818985                                          \n",
       "10818989                                          \n",
       "10818987                                          \n",
       "...                      ...                 ...  \n",
       "15396069   193941.7547456811  444316.58495149703  \n",
       "15396128  196943.87472884412   451788.0732126593  \n",
       "15395980                                          \n",
       "15396039  193080.46358436835   451783.7348186334  \n",
       "15396035   193122.9573474425  451717.68363126833  \n",
       "\n",
       "[4511927 rows x 14 columns]"
      ],
      "text/html": "<div>\n<style scoped>\n    .dataframe tbody tr th:only-of-type {\n        vertical-align: middle;\n    }\n\n    .dataframe tbody tr th {\n        vertical-align: top;\n    }\n\n    .dataframe thead th {\n        text-align: right;\n    }\n</style>\n<table border=\"1\" class=\"dataframe\">\n  <thead>\n    <tr style=\"text-align: right;\">\n      <th></th>\n      <th>datetime</th>\n      <th>ctype</th>\n      <th>regist1</th>\n      <th>regist2</th>\n      <th>rdepart</th>\n      <th>pdepart</th>\n      <th>cate1</th>\n      <th>cate2</th>\n      <th>cate3</th>\n      <th>dist1</th>\n      <th>dist2</th>\n      <th>regist_method</th>\n      <th>X</th>\n      <th>Y</th>\n    </tr>\n    <tr>\n      <th>serial</th>\n      <th></th>\n      <th></th>\n      <th></th>\n      <th></th>\n      <th></th>\n      <th></th>\n      <th></th>\n      <th></th>\n      <th></th>\n      <th></th>\n      <th></th>\n      <th></th>\n      <th></th>\n      <th></th>\n    </tr>\n  </thead>\n  <tbody>\n    <tr>\n      <th>10819001</th>\n      <td>2019-01-01 00:00:00</td>\n      <td>일반민원</td>\n      <td>모바일</td>\n      <td>민원상담</td>\n      <td>시민소통기획관 시민봉사담당관</td>\n      <td>도시계획국 도시계획과</td>\n      <td>주택/도시계획/부동산</td>\n      <td>지구단위계획</td>\n      <td>공동주택 건립을 위한 지구단위계획 수립(의제처리)</td>\n      <td>본청</td>\n      <td>양천구</td>\n      <td>인터넷</td>\n      <td></td>\n      <td></td>\n    </tr>\n    <tr>\n      <th>10827023</th>\n      <td>2019-01-02 20:57:26</td>\n      <td>일반민원</td>\n      <td>모바일</td>\n      <td>민원상담</td>\n      <td>시민소통기획관 시민봉사담당관</td>\n      <td>도시계획국 도시계획과</td>\n      <td>주택/도시계획/부동산</td>\n      <td>지구단위계획</td>\n      <td>공동주택 건립을 위한 지구단위계획 수립(의제처리)</td>\n      <td>본청</td>\n      <td>양천구</td>\n      <td>인터넷</td>\n      <td></td>\n      <td></td>\n    </tr>\n    <tr>\n      <th>10818985</th>\n      <td>2018-12-31 23:54:48</td>\n      <td>일반민원</td>\n      <td>모바일</td>\n      <td>민원상담</td>\n      <td>시민소통기획관 시민봉사담당관</td>\n      <td>도시계획국 도시계획과</td>\n      <td>주택/도시계획/부동산</td>\n      <td>지구단위계획</td>\n      <td>공동주택 건립을 위한 지구단위계획 수립(의제처리)</td>\n      <td>본청</td>\n      <td>양천구</td>\n      <td>인터넷</td>\n      <td></td>\n      <td></td>\n    </tr>\n    <tr>\n      <th>10818989</th>\n      <td>2018-12-31 23:55:56</td>\n      <td>일반민원</td>\n      <td>모바일</td>\n      <td>민원상담</td>\n      <td>시민소통기획관 시민봉사담당관</td>\n      <td>도시계획국 도시계획과</td>\n      <td>주택/도시계획/부동산</td>\n      <td>지구단위계획</td>\n      <td>공동주택 건립을 위한 지구단위계획 수립(의제처리)</td>\n      <td>본청</td>\n      <td>양천구</td>\n      <td>인터넷</td>\n      <td></td>\n      <td></td>\n    </tr>\n    <tr>\n      <th>10818987</th>\n      <td>2018-12-31 23:55:28</td>\n      <td>일반민원</td>\n      <td>모바일</td>\n      <td>민원상담</td>\n      <td>시민소통기획관 시민봉사담당관</td>\n      <td>도시계획국 도시계획과</td>\n      <td>주택/도시계획/부동산</td>\n      <td>지구단위계획</td>\n      <td>공동주택 건립을 위한 지구단위계획 수립(의제처리)</td>\n      <td>본청</td>\n      <td>양천구</td>\n      <td>인터넷</td>\n      <td></td>\n      <td></td>\n    </tr>\n    <tr>\n      <th>...</th>\n      <td>...</td>\n      <td>...</td>\n      <td>...</td>\n      <td>...</td>\n      <td>...</td>\n      <td>...</td>\n      <td>...</td>\n      <td>...</td>\n      <td>...</td>\n      <td>...</td>\n      <td>...</td>\n      <td>...</td>\n      <td>...</td>\n      <td>...</td>\n    </tr>\n    <tr>\n      <th>15396069</th>\n      <td>2020-12-31 22:54:45</td>\n      <td>현장민원</td>\n      <td>다산콜재단</td>\n      <td>스마트불편신고(앱)</td>\n      <td>120다산콜재단 운영본부</td>\n      <td>동작구 생활환경국 주차관리과</td>\n      <td>교통</td>\n      <td>불법주정차(구도로)</td>\n      <td>동작구</td>\n      <td>동작구</td>\n      <td>동작구</td>\n      <td>인터넷</td>\n      <td>193941.7547456811</td>\n      <td>444316.58495149703</td>\n    </tr>\n    <tr>\n      <th>15396128</th>\n      <td>2020-12-31 23:29:47</td>\n      <td>현장민원</td>\n      <td>다산콜재단</td>\n      <td>스마트불편신고(앱)</td>\n      <td>120다산콜재단 운영본부</td>\n      <td>서대문구 당직실</td>\n      <td>교통</td>\n      <td>불법주정차(구도로)</td>\n      <td>서대문구</td>\n      <td>서대문구</td>\n      <td>서대문구</td>\n      <td>인터넷</td>\n      <td>196943.87472884412</td>\n      <td>451788.0732126593</td>\n    </tr>\n    <tr>\n      <th>15395980</th>\n      <td>2020-12-31 22:09:42</td>\n      <td>현장민원</td>\n      <td>다산콜재단</td>\n      <td>120 문자상담</td>\n      <td>120다산콜재단 운영본부</td>\n      <td>중랑구 안전건설교통국 주차관리과</td>\n      <td>교통</td>\n      <td>불법주정차(구도로)</td>\n      <td>중랑구</td>\n      <td>중랑구</td>\n      <td>중랑구</td>\n      <td>인터넷</td>\n      <td></td>\n      <td></td>\n    </tr>\n    <tr>\n      <th>15396039</th>\n      <td>2020-12-31 22:34:43</td>\n      <td>현장민원</td>\n      <td>다산콜재단</td>\n      <td>스마트불편신고(앱)</td>\n      <td>120다산콜재단 운영본부</td>\n      <td>마포구 교통건설국 교통지도과</td>\n      <td>교통</td>\n      <td>불법주정차(구도로)</td>\n      <td>마포구</td>\n      <td>마포구</td>\n      <td>마포구</td>\n      <td>인터넷</td>\n      <td>193080.46358436835</td>\n      <td>451783.7348186334</td>\n    </tr>\n    <tr>\n      <th>15396035</th>\n      <td>2020-12-31 22:34:44</td>\n      <td>현장민원</td>\n      <td>다산콜재단</td>\n      <td>스마트불편신고(앱)</td>\n      <td>120다산콜재단 운영본부</td>\n      <td>마포구 교통건설국 교통지도과</td>\n      <td>교통</td>\n      <td>불법주정차(구도로)</td>\n      <td>마포구</td>\n      <td>마포구</td>\n      <td>마포구</td>\n      <td>인터넷</td>\n      <td>193122.9573474425</td>\n      <td>451717.68363126833</td>\n    </tr>\n  </tbody>\n</table>\n<p>4511927 rows × 14 columns</p>\n</div>"
     },
     "metadata": {},
     "execution_count": 3
    }
   ],
   "source": [
    "df"
   ]
  },
  {
   "cell_type": "code",
   "execution_count": 5,
   "metadata": {},
   "outputs": [
    {
     "output_type": "execute_result",
     "data": {
      "text/plain": [
       "Index(['datetime', 'ctype', 'regist1', 'regist2', 'rdepart', 'pdepart',\n",
       "       'cate1', 'cate2', 'cate3', 'dist1', 'dist2', 'regist_method', 'X', 'Y'],\n",
       "      dtype='object')"
      ]
     },
     "metadata": {},
     "execution_count": 5
    }
   ],
   "source": [
    "df.columns"
   ]
  },
  {
   "cell_type": "code",
   "execution_count": 5,
   "metadata": {},
   "outputs": [
    {
     "output_type": "execute_result",
     "data": {
      "text/plain": [
       "2020    2279820\n",
       "2019    2221531\n",
       "2018      10574\n",
       "2017          1\n",
       "2015          1\n",
       "Name: datetime, dtype: int64"
      ]
     },
     "metadata": {},
     "execution_count": 5
    }
   ],
   "source": [
    "df['datetime'].dt.year.value_counts()"
   ]
  },
  {
   "cell_type": "code",
   "execution_count": 7,
   "metadata": {},
   "outputs": [],
   "source": [
    "df['year'] = df['datetime'].dt.year"
   ]
  },
  {
   "cell_type": "code",
   "execution_count": 3,
   "metadata": {},
   "outputs": [
    {
     "output_type": "execute_result",
     "data": {
      "text/plain": [
       "현장민원             3022901\n",
       "일반민원             1378921\n",
       "120이관처리(현장익명)      64258\n",
       "고충민원               22294\n",
       "직소민원               13058\n",
       "단순참고                8303\n",
       "제안                  1064\n",
       "민생침해                 682\n",
       "특화민원                 278\n",
       "신고(환경)               168\n",
       "Name: ctype, dtype: int64"
      ]
     },
     "metadata": {},
     "execution_count": 3
    }
   ],
   "source": [
    "df['ctype'].value_counts()"
   ]
  },
  {
   "cell_type": "code",
   "execution_count": 9,
   "metadata": {},
   "outputs": [
    {
     "output_type": "execute_result",
     "data": {
      "text/plain": [
       "현장민원             1504940\n",
       "일반민원              659169\n",
       "120이관처리(현장익명)      34573\n",
       "고충민원               11234\n",
       "직소민원                6325\n",
       "단순참고                3642\n",
       "제안                  1001\n",
       "민생침해                 344\n",
       "특화민원                 196\n",
       "신고(환경)               107\n",
       "Name: ctype, dtype: int64"
      ]
     },
     "metadata": {},
     "execution_count": 9
    }
   ],
   "source": [
    "df[df['year']==2019]['ctype'].value_counts()"
   ]
  },
  {
   "cell_type": "code",
   "execution_count": 6,
   "metadata": {},
   "outputs": [
    {
     "output_type": "execute_result",
     "data": {
      "text/plain": [
       "<pandas.core.groupby.generic.DataFrameGroupBy object at 0x7f96a3295d30>"
      ]
     },
     "metadata": {},
     "execution_count": 6
    }
   ],
   "source": [
    "df[df['year']==2020]['ctype'].value_counts()"
   ]
  },
  {
   "cell_type": "code",
   "execution_count": 5,
   "metadata": {},
   "outputs": [
    {
     "output_type": "execute_result",
     "data": {
      "text/plain": [
       "다산콜재단        3150242\n",
       "시스템연계        1109937\n",
       "통합접수센터         97918\n",
       "홈페이지           68505\n",
       "모바일            44976\n",
       "포장도로관리시스템      39668\n",
       "SNS연계            681\n",
       "Name: regist1, dtype: int64"
      ]
     },
     "metadata": {},
     "execution_count": 5
    }
   ],
   "source": [
    "df['regist1'].value_counts()"
   ]
  },
  {
   "cell_type": "code",
   "execution_count": 8,
   "metadata": {},
   "outputs": [
    {
     "output_type": "execute_result",
     "data": {
      "text/plain": [
       "스마트불편신고(앱)          1122367\n",
       "국민신문고               1076104\n",
       "120 전화상담             961067\n",
       "120 문자상담             712874\n",
       "스마트불편신고(앱) 과태료부과     220265\n",
       "챗봇상담                 133655\n",
       "통합접수민원                94211\n",
       "민원상담                  93362\n",
       "포트홀신고                 39668\n",
       "서대문구 새올행정정보시스템        33586\n",
       "원순씨에게바랍니다             11791\n",
       "직소민원                   3428\n",
       "서대문구청장에게바란다            3342\n",
       "시장에게바랍니다               1351\n",
       "민주주의서울                 1080\n",
       "민생침해신고                  689\n",
       "트위터                     681\n",
       "시장에게바란다                 648\n",
       "시장에게바란다(외국어)            363\n",
       "시도행정시스템                 247\n",
       "공직자비리신고                 225\n",
       "인권침해신고                  216\n",
       "공익신고                    148\n",
       "시민발언대                   131\n",
       "갑질피해신고                  112\n",
       "노동조사                     86\n",
       "찾아가는서울시청                 61\n",
       "서울시홈페이지(자유게시판)           49\n",
       "서울시홈페이지(바로잡기)            48\n",
       "본부장에게바랍니다                39\n",
       "하도급부조리                   17\n",
       "스마트불편신고(웹)               13\n",
       "퇴직공무원 특혜                  1\n",
       "영상상담                      1\n",
       "부정청탁                      1\n",
       "Name: regist2, dtype: int64"
      ]
     },
     "metadata": {},
     "execution_count": 8
    }
   ],
   "source": [
    "df['regist2'].value_counts()"
   ]
  },
  {
   "cell_type": "code",
   "execution_count": 21,
   "metadata": {},
   "outputs": [
    {
     "output_type": "execute_result",
     "data": {
      "text/plain": [
       "120다산콜재단 운영본부       2881616\n",
       "시민소통기획관 시민봉사담당관     1357391\n",
       "120다산콜센터              97233\n",
       "                      78675\n",
       "구로구 안전건설국 건설관리과        6122\n",
       "                     ...   \n",
       "금천구 기획경제국 지역경제과           1\n",
       "서대문구 시설관리공단               1\n",
       "서울복지재단 전략경영본부             1\n",
       "송파구 도시관리국 부동산정보과          1\n",
       "기후환경본부 환경시민협력과            1\n",
       "Name: rdepart, Length: 342, dtype: int64"
      ]
     },
     "metadata": {},
     "execution_count": 21
    }
   ],
   "source": [
    "df['rdepart'].value_counts()"
   ]
  },
  {
   "cell_type": "code",
   "execution_count": 10,
   "metadata": {},
   "outputs": [
    {
     "output_type": "execute_result",
     "data": {
      "text/plain": [
       "교통                    2867817\n",
       "가로정비                   240991\n",
       "청소                     189196\n",
       "기타 불편사항                175018\n",
       "환경/공원/상수도              146698\n",
       "도로                     143218\n",
       "환경                     115224\n",
       "건설                      98985\n",
       "주택/도시계획/부동산             93629\n",
       "기타                      91889\n",
       "보건                      68123\n",
       "기획/감사/교육/정보화/마을공동체      49834\n",
       "안전/소방/민방위               36390\n",
       "주택건축                    35684\n",
       "공원녹지                    33162\n",
       "건강/식품위생                 26717\n",
       "문화/관광/체육/디자인            26527\n",
       "치수방재                    25467\n",
       "코로나19                   16236\n",
       "복지/어르신/장애인              13718\n",
       "경제/일자리                   7233\n",
       "여성/보육/아동 청소년             3712\n",
       "                         3175\n",
       "세금/재정/계약                 2053\n",
       "소방안전                      559\n",
       "경제/산업                     345\n",
       "신고(환경)                    182\n",
       "범죄신고                      145\n",
       "Name: cate1, dtype: int64"
      ]
     },
     "metadata": {},
     "execution_count": 10
    }
   ],
   "source": [
    "df['cate1'].value_counts()"
   ]
  },
  {
   "cell_type": "code",
   "execution_count": 11,
   "metadata": {},
   "outputs": [
    {
     "output_type": "execute_result",
     "data": {
      "text/plain": [
       "불법주정차(구도로)              1930747\n",
       "교통정책교통제도 도시철도            405766\n",
       "버스정책시내버스운송사업마을버스노선관리     251087\n",
       "건의/제안                    171235\n",
       "불법광고물                    134641\n",
       "                         ...   \n",
       "사법경찰                          3\n",
       "환경보전수사                        3\n",
       "유독물질유출불법소각                    1\n",
       "풍수해 안전사고 위험                   1\n",
       "주택가 감전사고 위험                   1\n",
       "Name: cate2, Length: 198, dtype: int64"
      ]
     },
     "metadata": {},
     "execution_count": 11
    }
   ],
   "source": [
    "df['cate2'].value_counts()"
   ]
  },
  {
   "cell_type": "code",
   "execution_count": 12,
   "metadata": {},
   "outputs": [
    {
     "output_type": "execute_result",
     "data": {
      "text/plain": [
       "서울메트로·도시철도공사 지도감독    228585\n",
       "강남구                  210142\n",
       "시내·마을버스 노선           209926\n",
       "강동구                  199975\n",
       "마포구                  195898\n",
       "                      ...  \n",
       "특별사법경찰 유관기관 협력            1\n",
       "언론 인터뷰 브리핑                1\n",
       "행정포털                      1\n",
       "물시장해외진출 및 국내물시장육성         1\n",
       "기반시설부담금                   1\n",
       "Name: cate3, Length: 1345, dtype: int64"
      ]
     },
     "metadata": {},
     "execution_count": 12
    }
   ],
   "source": [
    "# cate3에는 소분류가 아니라 지역구 이름이 적힌 경우가 많음.\n",
    "df['cate3'].value_counts()"
   ]
  },
  {
   "cell_type": "code",
   "execution_count": 13,
   "metadata": {},
   "outputs": [
    {
     "output_type": "execute_result",
     "data": {
      "text/plain": [
       "본청                  938292\n",
       "강남구                 228335\n",
       "강동구                 215570\n",
       "마포구                 205087\n",
       "송파구                 188194\n",
       "                     ...  \n",
       "공무원수련원                   2\n",
       "서울시사회서비스원                2\n",
       "서울공예박물관                  2\n",
       "동부병원                     1\n",
       "투자출자출연기관 서울기술연구원         1\n",
       "Name: dist1, Length: 90, dtype: int64"
      ]
     },
     "metadata": {},
     "execution_count": 13
    }
   ],
   "source": [
    "df['dist1'].value_counts()"
   ]
  },
  {
   "cell_type": "code",
   "execution_count": 14,
   "metadata": {},
   "outputs": [
    {
     "output_type": "execute_result",
     "data": {
      "text/plain": [
       "본청(서울시)     1189954\n",
       "강남구          236679\n",
       "강동구          211113\n",
       "마포구          204604\n",
       "송파구          193673\n",
       "             ...   \n",
       "보건환경연구원           1\n",
       "서울시립교향악단          1\n",
       "서울역사박물관           1\n",
       "공무원수련원            1\n",
       "시립미술관             1\n",
       "Name: dist2, Length: 70, dtype: int64"
      ]
     },
     "metadata": {},
     "execution_count": 14
    }
   ],
   "source": [
    "df['dist2'].value_counts()"
   ]
  },
  {
   "cell_type": "code",
   "execution_count": 20,
   "metadata": {},
   "outputs": [
    {
     "output_type": "execute_result",
     "data": {
      "text/plain": [
       "                    datetime ctype regist1     regist2        rdepart  \\\n",
       "serial                                                                  \n",
       "10888439 2019-01-08 07:16:02  현장민원   다산콜재단  스마트불편신고(앱)       120다산콜센터   \n",
       "10888227 2019-01-08 06:12:37  현장민원   다산콜재단  스마트불편신고(앱)       120다산콜센터   \n",
       "10888563 2019-01-08 08:08:38  현장민원   다산콜재단  스마트불편신고(앱)       120다산콜센터   \n",
       "10888476 2019-01-08 07:40:09  현장민원   다산콜재단  스마트불편신고(앱)       120다산콜센터   \n",
       "10888462 2019-01-08 07:27:32  현장민원   다산콜재단  스마트불편신고(앱)       120다산콜센터   \n",
       "...                      ...   ...     ...         ...            ...   \n",
       "15396126 2020-12-31 23:29:47  현장민원   다산콜재단  스마트불편신고(앱)  120다산콜재단 운영본부   \n",
       "15396069 2020-12-31 22:54:45  현장민원   다산콜재단  스마트불편신고(앱)  120다산콜재단 운영본부   \n",
       "15396128 2020-12-31 23:29:47  현장민원   다산콜재단  스마트불편신고(앱)  120다산콜재단 운영본부   \n",
       "15396039 2020-12-31 22:34:43  현장민원   다산콜재단  스마트불편신고(앱)  120다산콜재단 운영본부   \n",
       "15396035 2020-12-31 22:34:44  현장민원   다산콜재단  스마트불편신고(앱)  120다산콜재단 운영본부   \n",
       "\n",
       "                   pdepart cate1       cate2 cate3 dist1 dist2 regist_method  \\\n",
       "serial                                                                         \n",
       "10888439   강동구 건설교통국 주차행정과    교통  불법주정차(구도로)   강동구   강동구   강동구           인터넷   \n",
       "10888227           도봉구 당직실    교통  불법주정차(구도로)   도봉구   도봉구   도봉구           인터넷   \n",
       "10888563  영등포구 안전교통국 주차문화과    교통  불법주정차(구도로)  영등포구  영등포구  영등포구           인터넷   \n",
       "10888476        강남구 도시관리공단    교통  불법주정차(구도로)   강남구   강남구   강남구           인터넷   \n",
       "10888462           성동구 당직실    교통  불법주정차(구도로)   성동구   성동구   성동구           인터넷   \n",
       "...                    ...   ...         ...   ...   ...   ...           ...   \n",
       "15396126          서대문구 당직실    교통  불법주정차(구도로)  서대문구  서대문구  서대문구           인터넷   \n",
       "15396069   동작구 생활환경국 주차관리과    교통  불법주정차(구도로)   동작구   동작구   동작구           인터넷   \n",
       "15396128          서대문구 당직실    교통  불법주정차(구도로)  서대문구  서대문구  서대문구           인터넷   \n",
       "15396039   마포구 교통건설국 교통지도과    교통  불법주정차(구도로)   마포구   마포구   마포구           인터넷   \n",
       "15396035   마포구 교통건설국 교통지도과    교통  불법주정차(구도로)   마포구   마포구   마포구           인터넷   \n",
       "\n",
       "                           X                   Y  \n",
       "serial                                            \n",
       "10888439  211892.71297789153  450432.37949641567  \n",
       "10888227  204144.92602631598  464688.24471307744  \n",
       "10888563   191250.3370458698  443819.41501753207  \n",
       "10888476  204756.83352732565  444993.03825513576  \n",
       "10888462  203968.77900513235  448826.86511985166  \n",
       "...                      ...                 ...  \n",
       "15396126  196943.87472884412   451788.0732126593  \n",
       "15396069   193941.7547456811  444316.58495149703  \n",
       "15396128  196943.87472884412   451788.0732126593  \n",
       "15396039  193080.46358436835   451783.7348186334  \n",
       "15396035   193122.9573474425  451717.68363126833  \n",
       "\n",
       "[1501982 rows x 14 columns]"
      ],
      "text/html": "<div>\n<style scoped>\n    .dataframe tbody tr th:only-of-type {\n        vertical-align: middle;\n    }\n\n    .dataframe tbody tr th {\n        vertical-align: top;\n    }\n\n    .dataframe thead th {\n        text-align: right;\n    }\n</style>\n<table border=\"1\" class=\"dataframe\">\n  <thead>\n    <tr style=\"text-align: right;\">\n      <th></th>\n      <th>datetime</th>\n      <th>ctype</th>\n      <th>regist1</th>\n      <th>regist2</th>\n      <th>rdepart</th>\n      <th>pdepart</th>\n      <th>cate1</th>\n      <th>cate2</th>\n      <th>cate3</th>\n      <th>dist1</th>\n      <th>dist2</th>\n      <th>regist_method</th>\n      <th>X</th>\n      <th>Y</th>\n    </tr>\n    <tr>\n      <th>serial</th>\n      <th></th>\n      <th></th>\n      <th></th>\n      <th></th>\n      <th></th>\n      <th></th>\n      <th></th>\n      <th></th>\n      <th></th>\n      <th></th>\n      <th></th>\n      <th></th>\n      <th></th>\n      <th></th>\n    </tr>\n  </thead>\n  <tbody>\n    <tr>\n      <th>10888439</th>\n      <td>2019-01-08 07:16:02</td>\n      <td>현장민원</td>\n      <td>다산콜재단</td>\n      <td>스마트불편신고(앱)</td>\n      <td>120다산콜센터</td>\n      <td>강동구 건설교통국 주차행정과</td>\n      <td>교통</td>\n      <td>불법주정차(구도로)</td>\n      <td>강동구</td>\n      <td>강동구</td>\n      <td>강동구</td>\n      <td>인터넷</td>\n      <td>211892.71297789153</td>\n      <td>450432.37949641567</td>\n    </tr>\n    <tr>\n      <th>10888227</th>\n      <td>2019-01-08 06:12:37</td>\n      <td>현장민원</td>\n      <td>다산콜재단</td>\n      <td>스마트불편신고(앱)</td>\n      <td>120다산콜센터</td>\n      <td>도봉구 당직실</td>\n      <td>교통</td>\n      <td>불법주정차(구도로)</td>\n      <td>도봉구</td>\n      <td>도봉구</td>\n      <td>도봉구</td>\n      <td>인터넷</td>\n      <td>204144.92602631598</td>\n      <td>464688.24471307744</td>\n    </tr>\n    <tr>\n      <th>10888563</th>\n      <td>2019-01-08 08:08:38</td>\n      <td>현장민원</td>\n      <td>다산콜재단</td>\n      <td>스마트불편신고(앱)</td>\n      <td>120다산콜센터</td>\n      <td>영등포구 안전교통국 주차문화과</td>\n      <td>교통</td>\n      <td>불법주정차(구도로)</td>\n      <td>영등포구</td>\n      <td>영등포구</td>\n      <td>영등포구</td>\n      <td>인터넷</td>\n      <td>191250.3370458698</td>\n      <td>443819.41501753207</td>\n    </tr>\n    <tr>\n      <th>10888476</th>\n      <td>2019-01-08 07:40:09</td>\n      <td>현장민원</td>\n      <td>다산콜재단</td>\n      <td>스마트불편신고(앱)</td>\n      <td>120다산콜센터</td>\n      <td>강남구 도시관리공단</td>\n      <td>교통</td>\n      <td>불법주정차(구도로)</td>\n      <td>강남구</td>\n      <td>강남구</td>\n      <td>강남구</td>\n      <td>인터넷</td>\n      <td>204756.83352732565</td>\n      <td>444993.03825513576</td>\n    </tr>\n    <tr>\n      <th>10888462</th>\n      <td>2019-01-08 07:27:32</td>\n      <td>현장민원</td>\n      <td>다산콜재단</td>\n      <td>스마트불편신고(앱)</td>\n      <td>120다산콜센터</td>\n      <td>성동구 당직실</td>\n      <td>교통</td>\n      <td>불법주정차(구도로)</td>\n      <td>성동구</td>\n      <td>성동구</td>\n      <td>성동구</td>\n      <td>인터넷</td>\n      <td>203968.77900513235</td>\n      <td>448826.86511985166</td>\n    </tr>\n    <tr>\n      <th>...</th>\n      <td>...</td>\n      <td>...</td>\n      <td>...</td>\n      <td>...</td>\n      <td>...</td>\n      <td>...</td>\n      <td>...</td>\n      <td>...</td>\n      <td>...</td>\n      <td>...</td>\n      <td>...</td>\n      <td>...</td>\n      <td>...</td>\n      <td>...</td>\n    </tr>\n    <tr>\n      <th>15396126</th>\n      <td>2020-12-31 23:29:47</td>\n      <td>현장민원</td>\n      <td>다산콜재단</td>\n      <td>스마트불편신고(앱)</td>\n      <td>120다산콜재단 운영본부</td>\n      <td>서대문구 당직실</td>\n      <td>교통</td>\n      <td>불법주정차(구도로)</td>\n      <td>서대문구</td>\n      <td>서대문구</td>\n      <td>서대문구</td>\n      <td>인터넷</td>\n      <td>196943.87472884412</td>\n      <td>451788.0732126593</td>\n    </tr>\n    <tr>\n      <th>15396069</th>\n      <td>2020-12-31 22:54:45</td>\n      <td>현장민원</td>\n      <td>다산콜재단</td>\n      <td>스마트불편신고(앱)</td>\n      <td>120다산콜재단 운영본부</td>\n      <td>동작구 생활환경국 주차관리과</td>\n      <td>교통</td>\n      <td>불법주정차(구도로)</td>\n      <td>동작구</td>\n      <td>동작구</td>\n      <td>동작구</td>\n      <td>인터넷</td>\n      <td>193941.7547456811</td>\n      <td>444316.58495149703</td>\n    </tr>\n    <tr>\n      <th>15396128</th>\n      <td>2020-12-31 23:29:47</td>\n      <td>현장민원</td>\n      <td>다산콜재단</td>\n      <td>스마트불편신고(앱)</td>\n      <td>120다산콜재단 운영본부</td>\n      <td>서대문구 당직실</td>\n      <td>교통</td>\n      <td>불법주정차(구도로)</td>\n      <td>서대문구</td>\n      <td>서대문구</td>\n      <td>서대문구</td>\n      <td>인터넷</td>\n      <td>196943.87472884412</td>\n      <td>451788.0732126593</td>\n    </tr>\n    <tr>\n      <th>15396039</th>\n      <td>2020-12-31 22:34:43</td>\n      <td>현장민원</td>\n      <td>다산콜재단</td>\n      <td>스마트불편신고(앱)</td>\n      <td>120다산콜재단 운영본부</td>\n      <td>마포구 교통건설국 교통지도과</td>\n      <td>교통</td>\n      <td>불법주정차(구도로)</td>\n      <td>마포구</td>\n      <td>마포구</td>\n      <td>마포구</td>\n      <td>인터넷</td>\n      <td>193080.46358436835</td>\n      <td>451783.7348186334</td>\n    </tr>\n    <tr>\n      <th>15396035</th>\n      <td>2020-12-31 22:34:44</td>\n      <td>현장민원</td>\n      <td>다산콜재단</td>\n      <td>스마트불편신고(앱)</td>\n      <td>120다산콜재단 운영본부</td>\n      <td>마포구 교통건설국 교통지도과</td>\n      <td>교통</td>\n      <td>불법주정차(구도로)</td>\n      <td>마포구</td>\n      <td>마포구</td>\n      <td>마포구</td>\n      <td>인터넷</td>\n      <td>193122.9573474425</td>\n      <td>451717.68363126833</td>\n    </tr>\n  </tbody>\n</table>\n<p>1501982 rows × 14 columns</p>\n</div>"
     },
     "metadata": {},
     "execution_count": 20
    }
   ],
   "source": [
    "# 위경도 좌표가 있는 민원건은 150만건 (전체의 1/3)\n",
    "df[df['X'].map(lambda x:x!='')]"
   ]
  },
  {
   "cell_type": "code",
   "execution_count": 22,
   "metadata": {},
   "outputs": [
    {
     "output_type": "execute_result",
     "data": {
      "text/plain": [
       "                    datetime ctype regist1   regist2          rdepart  \\\n",
       "serial                                                                  \n",
       "10819001 2019-01-01 00:00:00  일반민원     모바일      민원상담  시민소통기획관 시민봉사담당관   \n",
       "10827023 2019-01-02 20:57:26  일반민원     모바일      민원상담  시민소통기획관 시민봉사담당관   \n",
       "10818985 2018-12-31 23:54:48  일반민원     모바일      민원상담  시민소통기획관 시민봉사담당관   \n",
       "10818989 2018-12-31 23:55:56  일반민원     모바일      민원상담  시민소통기획관 시민봉사담당관   \n",
       "10818987 2018-12-31 23:55:28  일반민원     모바일      민원상담  시민소통기획관 시민봉사담당관   \n",
       "...                      ...   ...     ...       ...              ...   \n",
       "15395889 2020-12-31 21:29:40  현장민원   다산콜재단  120 문자상담    120다산콜재단 운영본부   \n",
       "15395942 2020-12-31 21:44:41  현장민원   다산콜재단  120 전화상담    120다산콜재단 운영본부   \n",
       "15395951 2020-12-31 21:49:41  현장민원   다산콜재단  120 문자상담    120다산콜재단 운영본부   \n",
       "15396146 2020-12-31 23:34:47  현장민원   다산콜재단  120 전화상담    120다산콜재단 운영본부   \n",
       "15395980 2020-12-31 22:09:42  현장민원   다산콜재단  120 문자상담    120다산콜재단 운영본부   \n",
       "\n",
       "                    pdepart        cate1       cate2  \\\n",
       "serial                                                 \n",
       "10819001        도시계획국 도시계획과  주택/도시계획/부동산      지구단위계획   \n",
       "10827023        도시계획국 도시계획과  주택/도시계획/부동산      지구단위계획   \n",
       "10818985        도시계획국 도시계획과  주택/도시계획/부동산      지구단위계획   \n",
       "10818989        도시계획국 도시계획과  주택/도시계획/부동산      지구단위계획   \n",
       "10818987        도시계획국 도시계획과  주택/도시계획/부동산      지구단위계획   \n",
       "...                     ...          ...         ...   \n",
       "15395889           서대문구 당직실           교통  불법주정차(구도로)   \n",
       "15395942         강남구 도시관리공단           교통  불법주정차(구도로)   \n",
       "15395951         강남구 도시관리공단           교통  불법주정차(구도로)   \n",
       "15396146            금천구 당직실           청소     규격봉투미수거   \n",
       "15395980  중랑구 안전건설교통국 주차관리과           교통  불법주정차(구도로)   \n",
       "\n",
       "                                cate3 dist1 dist2 regist_method X  Y   \n",
       "serial                                                                 \n",
       "10819001  공동주택 건립을 위한 지구단위계획 수립(의제처리)    본청   양천구           인터넷        \n",
       "10827023  공동주택 건립을 위한 지구단위계획 수립(의제처리)    본청   양천구           인터넷        \n",
       "10818985  공동주택 건립을 위한 지구단위계획 수립(의제처리)    본청   양천구           인터넷        \n",
       "10818989  공동주택 건립을 위한 지구단위계획 수립(의제처리)    본청   양천구           인터넷        \n",
       "10818987  공동주택 건립을 위한 지구단위계획 수립(의제처리)    본청   양천구           인터넷        \n",
       "...                               ...   ...   ...           ... .. ..  \n",
       "15395889                         서대문구  서대문구  서대문구           인터넷        \n",
       "15395942                          강남구   강남구   강남구           인터넷        \n",
       "15395951                          강남구   강남구   강남구           인터넷        \n",
       "15396146                          금천구   금천구   금천구           인터넷        \n",
       "15395980                          중랑구   중랑구   중랑구           인터넷        \n",
       "\n",
       "[3009945 rows x 14 columns]"
      ],
      "text/html": "<div>\n<style scoped>\n    .dataframe tbody tr th:only-of-type {\n        vertical-align: middle;\n    }\n\n    .dataframe tbody tr th {\n        vertical-align: top;\n    }\n\n    .dataframe thead th {\n        text-align: right;\n    }\n</style>\n<table border=\"1\" class=\"dataframe\">\n  <thead>\n    <tr style=\"text-align: right;\">\n      <th></th>\n      <th>datetime</th>\n      <th>ctype</th>\n      <th>regist1</th>\n      <th>regist2</th>\n      <th>rdepart</th>\n      <th>pdepart</th>\n      <th>cate1</th>\n      <th>cate2</th>\n      <th>cate3</th>\n      <th>dist1</th>\n      <th>dist2</th>\n      <th>regist_method</th>\n      <th>X</th>\n      <th>Y</th>\n    </tr>\n    <tr>\n      <th>serial</th>\n      <th></th>\n      <th></th>\n      <th></th>\n      <th></th>\n      <th></th>\n      <th></th>\n      <th></th>\n      <th></th>\n      <th></th>\n      <th></th>\n      <th></th>\n      <th></th>\n      <th></th>\n      <th></th>\n    </tr>\n  </thead>\n  <tbody>\n    <tr>\n      <th>10819001</th>\n      <td>2019-01-01 00:00:00</td>\n      <td>일반민원</td>\n      <td>모바일</td>\n      <td>민원상담</td>\n      <td>시민소통기획관 시민봉사담당관</td>\n      <td>도시계획국 도시계획과</td>\n      <td>주택/도시계획/부동산</td>\n      <td>지구단위계획</td>\n      <td>공동주택 건립을 위한 지구단위계획 수립(의제처리)</td>\n      <td>본청</td>\n      <td>양천구</td>\n      <td>인터넷</td>\n      <td></td>\n      <td></td>\n    </tr>\n    <tr>\n      <th>10827023</th>\n      <td>2019-01-02 20:57:26</td>\n      <td>일반민원</td>\n      <td>모바일</td>\n      <td>민원상담</td>\n      <td>시민소통기획관 시민봉사담당관</td>\n      <td>도시계획국 도시계획과</td>\n      <td>주택/도시계획/부동산</td>\n      <td>지구단위계획</td>\n      <td>공동주택 건립을 위한 지구단위계획 수립(의제처리)</td>\n      <td>본청</td>\n      <td>양천구</td>\n      <td>인터넷</td>\n      <td></td>\n      <td></td>\n    </tr>\n    <tr>\n      <th>10818985</th>\n      <td>2018-12-31 23:54:48</td>\n      <td>일반민원</td>\n      <td>모바일</td>\n      <td>민원상담</td>\n      <td>시민소통기획관 시민봉사담당관</td>\n      <td>도시계획국 도시계획과</td>\n      <td>주택/도시계획/부동산</td>\n      <td>지구단위계획</td>\n      <td>공동주택 건립을 위한 지구단위계획 수립(의제처리)</td>\n      <td>본청</td>\n      <td>양천구</td>\n      <td>인터넷</td>\n      <td></td>\n      <td></td>\n    </tr>\n    <tr>\n      <th>10818989</th>\n      <td>2018-12-31 23:55:56</td>\n      <td>일반민원</td>\n      <td>모바일</td>\n      <td>민원상담</td>\n      <td>시민소통기획관 시민봉사담당관</td>\n      <td>도시계획국 도시계획과</td>\n      <td>주택/도시계획/부동산</td>\n      <td>지구단위계획</td>\n      <td>공동주택 건립을 위한 지구단위계획 수립(의제처리)</td>\n      <td>본청</td>\n      <td>양천구</td>\n      <td>인터넷</td>\n      <td></td>\n      <td></td>\n    </tr>\n    <tr>\n      <th>10818987</th>\n      <td>2018-12-31 23:55:28</td>\n      <td>일반민원</td>\n      <td>모바일</td>\n      <td>민원상담</td>\n      <td>시민소통기획관 시민봉사담당관</td>\n      <td>도시계획국 도시계획과</td>\n      <td>주택/도시계획/부동산</td>\n      <td>지구단위계획</td>\n      <td>공동주택 건립을 위한 지구단위계획 수립(의제처리)</td>\n      <td>본청</td>\n      <td>양천구</td>\n      <td>인터넷</td>\n      <td></td>\n      <td></td>\n    </tr>\n    <tr>\n      <th>...</th>\n      <td>...</td>\n      <td>...</td>\n      <td>...</td>\n      <td>...</td>\n      <td>...</td>\n      <td>...</td>\n      <td>...</td>\n      <td>...</td>\n      <td>...</td>\n      <td>...</td>\n      <td>...</td>\n      <td>...</td>\n      <td>...</td>\n      <td>...</td>\n    </tr>\n    <tr>\n      <th>15395889</th>\n      <td>2020-12-31 21:29:40</td>\n      <td>현장민원</td>\n      <td>다산콜재단</td>\n      <td>120 문자상담</td>\n      <td>120다산콜재단 운영본부</td>\n      <td>서대문구 당직실</td>\n      <td>교통</td>\n      <td>불법주정차(구도로)</td>\n      <td>서대문구</td>\n      <td>서대문구</td>\n      <td>서대문구</td>\n      <td>인터넷</td>\n      <td></td>\n      <td></td>\n    </tr>\n    <tr>\n      <th>15395942</th>\n      <td>2020-12-31 21:44:41</td>\n      <td>현장민원</td>\n      <td>다산콜재단</td>\n      <td>120 전화상담</td>\n      <td>120다산콜재단 운영본부</td>\n      <td>강남구 도시관리공단</td>\n      <td>교통</td>\n      <td>불법주정차(구도로)</td>\n      <td>강남구</td>\n      <td>강남구</td>\n      <td>강남구</td>\n      <td>인터넷</td>\n      <td></td>\n      <td></td>\n    </tr>\n    <tr>\n      <th>15395951</th>\n      <td>2020-12-31 21:49:41</td>\n      <td>현장민원</td>\n      <td>다산콜재단</td>\n      <td>120 문자상담</td>\n      <td>120다산콜재단 운영본부</td>\n      <td>강남구 도시관리공단</td>\n      <td>교통</td>\n      <td>불법주정차(구도로)</td>\n      <td>강남구</td>\n      <td>강남구</td>\n      <td>강남구</td>\n      <td>인터넷</td>\n      <td></td>\n      <td></td>\n    </tr>\n    <tr>\n      <th>15396146</th>\n      <td>2020-12-31 23:34:47</td>\n      <td>현장민원</td>\n      <td>다산콜재단</td>\n      <td>120 전화상담</td>\n      <td>120다산콜재단 운영본부</td>\n      <td>금천구 당직실</td>\n      <td>청소</td>\n      <td>규격봉투미수거</td>\n      <td>금천구</td>\n      <td>금천구</td>\n      <td>금천구</td>\n      <td>인터넷</td>\n      <td></td>\n      <td></td>\n    </tr>\n    <tr>\n      <th>15395980</th>\n      <td>2020-12-31 22:09:42</td>\n      <td>현장민원</td>\n      <td>다산콜재단</td>\n      <td>120 문자상담</td>\n      <td>120다산콜재단 운영본부</td>\n      <td>중랑구 안전건설교통국 주차관리과</td>\n      <td>교통</td>\n      <td>불법주정차(구도로)</td>\n      <td>중랑구</td>\n      <td>중랑구</td>\n      <td>중랑구</td>\n      <td>인터넷</td>\n      <td></td>\n      <td></td>\n    </tr>\n  </tbody>\n</table>\n<p>3009945 rows × 14 columns</p>\n</div>"
     },
     "metadata": {},
     "execution_count": 22
    }
   ],
   "source": [
    "df[df['X'].map(lambda x:x=='')]"
   ]
  },
  {
   "source": [
    "## 형태소 포함 테이블"
   ],
   "cell_type": "markdown",
   "metadata": {}
  },
  {
   "cell_type": "code",
   "execution_count": 3,
   "metadata": {},
   "outputs": [],
   "source": [
    "with open('dasan_CN.bin','rb') as f:\n",
    "    df_CN = pickle.load(f)"
   ]
  },
  {
   "cell_type": "code",
   "execution_count": 4,
   "metadata": {},
   "outputs": [
    {
     "output_type": "execute_result",
     "data": {
      "text/plain": [
       "                                                         CN\n",
       "serial                                                     \n",
       "10819001  [박원순, 서울, 시장님, 목동, 에서, 아파트, 용적율, 2종, 은, 목동, 13...\n",
       "10819008  [안녕하세요, 위례, 주민, 입, 니다, 현재, 위례, 주민들, 은, 송파, 공영,...\n",
       "10819010  [안녕하세요, 위례, 주민, 입, 니다, 현재, 위례, 주민들, 은, 송파, 공영,...\n",
       "10819011  [안녕하세요, 위례, 주민, 입, 니다, 현재, 위례, 주민들, 은, 송파, 공영,...\n",
       "10819014  [안녕하세요, 위례, 주민, 입, 니다, 현재, 위례, 주민들, 은, 송파, 공영,...\n",
       "...                                                     ...\n",
       "15397714                               [택시, 포트홀, 신고, 입, 니다]\n",
       "15397718  [1, 지난, 달, 11월, 5일, 울산, 북부, 경찰서로, 정보공개청구, 한, 내...\n",
       "15397721                                           [첨부, 파일]\n",
       "15397907                  [2020, 12, 31, _, 결재, 테스트, 입, 니다]\n",
       "15397982                 [월드컵, 로7안길, 14, 주차장입구, 차량, 단속, 요청]\n",
       "\n",
       "[4501351 rows x 1 columns]"
      ],
      "text/html": "<div>\n<style scoped>\n    .dataframe tbody tr th:only-of-type {\n        vertical-align: middle;\n    }\n\n    .dataframe tbody tr th {\n        vertical-align: top;\n    }\n\n    .dataframe thead th {\n        text-align: right;\n    }\n</style>\n<table border=\"1\" class=\"dataframe\">\n  <thead>\n    <tr style=\"text-align: right;\">\n      <th></th>\n      <th>CN</th>\n    </tr>\n    <tr>\n      <th>serial</th>\n      <th></th>\n    </tr>\n  </thead>\n  <tbody>\n    <tr>\n      <th>10819001</th>\n      <td>[박원순, 서울, 시장님, 목동, 에서, 아파트, 용적율, 2종, 은, 목동, 13...</td>\n    </tr>\n    <tr>\n      <th>10819008</th>\n      <td>[안녕하세요, 위례, 주민, 입, 니다, 현재, 위례, 주민들, 은, 송파, 공영,...</td>\n    </tr>\n    <tr>\n      <th>10819010</th>\n      <td>[안녕하세요, 위례, 주민, 입, 니다, 현재, 위례, 주민들, 은, 송파, 공영,...</td>\n    </tr>\n    <tr>\n      <th>10819011</th>\n      <td>[안녕하세요, 위례, 주민, 입, 니다, 현재, 위례, 주민들, 은, 송파, 공영,...</td>\n    </tr>\n    <tr>\n      <th>10819014</th>\n      <td>[안녕하세요, 위례, 주민, 입, 니다, 현재, 위례, 주민들, 은, 송파, 공영,...</td>\n    </tr>\n    <tr>\n      <th>...</th>\n      <td>...</td>\n    </tr>\n    <tr>\n      <th>15397714</th>\n      <td>[택시, 포트홀, 신고, 입, 니다]</td>\n    </tr>\n    <tr>\n      <th>15397718</th>\n      <td>[1, 지난, 달, 11월, 5일, 울산, 북부, 경찰서로, 정보공개청구, 한, 내...</td>\n    </tr>\n    <tr>\n      <th>15397721</th>\n      <td>[첨부, 파일]</td>\n    </tr>\n    <tr>\n      <th>15397907</th>\n      <td>[2020, 12, 31, _, 결재, 테스트, 입, 니다]</td>\n    </tr>\n    <tr>\n      <th>15397982</th>\n      <td>[월드컵, 로7안길, 14, 주차장입구, 차량, 단속, 요청]</td>\n    </tr>\n  </tbody>\n</table>\n<p>4501351 rows × 1 columns</p>\n</div>"
     },
     "metadata": {},
     "execution_count": 4
    }
   ],
   "source": [
    "df_CN"
   ]
  },
  {
   "cell_type": "code",
   "execution_count": 7,
   "metadata": {},
   "outputs": [
    {
     "output_type": "execute_result",
     "data": {
      "text/plain": [
       "Index(['10819001', '10819008', '10819010', '10819011', '10819014', '10819019',\n",
       "       '10819024', '10819027', '10819031', '10819034',\n",
       "       ...\n",
       "       '15397673', '15397695', '15397703', '15397705', '15397708', '15397714',\n",
       "       '15397718', '15397721', '15397907', '15397982'],\n",
       "      dtype='object', name='serial', length=4501351)"
      ]
     },
     "metadata": {},
     "execution_count": 7
    }
   ],
   "source": [
    "df_CN.index"
   ]
  },
  {
   "cell_type": "code",
   "execution_count": 6,
   "metadata": {},
   "outputs": [
    {
     "output_type": "execute_result",
     "data": {
      "text/plain": [
       "CN    [박원순, 서울, 시장님, 목동, 에서, 아파트, 용적율, 2종, 은, 목동, 13...\n",
       "Name: 10819001, dtype: object"
      ]
     },
     "metadata": {},
     "execution_count": 6
    }
   ],
   "source": [
    "df_CN.iloc[0]"
   ]
  },
  {
   "cell_type": "code",
   "execution_count": 16,
   "metadata": {},
   "outputs": [],
   "source": [
    "df_merge = df.join(df_CN,how='inner')"
   ]
  },
  {
   "cell_type": "code",
   "execution_count": 17,
   "metadata": {},
   "outputs": [
    {
     "output_type": "execute_result",
     "data": {
      "text/plain": [
       "serial\n",
       "10819001    [박원순, 서울, 시장님, 목동, 에서, 아파트, 용적율, 2종, 은, 목동, 13...\n",
       "10819008    [안녕하세요, 위례, 주민, 입, 니다, 현재, 위례, 주민들, 은, 송파, 공영,...\n",
       "10819010    [안녕하세요, 위례, 주민, 입, 니다, 현재, 위례, 주민들, 은, 송파, 공영,...\n",
       "10819011    [안녕하세요, 위례, 주민, 입, 니다, 현재, 위례, 주민들, 은, 송파, 공영,...\n",
       "10819014    [안녕하세요, 위례, 주민, 입, 니다, 현재, 위례, 주민들, 은, 송파, 공영,...\n",
       "                                  ...                        \n",
       "15397714                                 [택시, 포트홀, 신고, 입, 니다]\n",
       "15397718    [1, 지난, 달, 11월, 5일, 울산, 북부, 경찰서로, 정보공개청구, 한, 내...\n",
       "15397721                                             [첨부, 파일]\n",
       "15397907                    [2020, 12, 31, _, 결재, 테스트, 입, 니다]\n",
       "15397982                   [월드컵, 로7안길, 14, 주차장입구, 차량, 단속, 요청]\n",
       "Name: CN, Length: 4501401, dtype: object"
      ]
     },
     "metadata": {},
     "execution_count": 17
    }
   ],
   "source": [
    "df_merge['CN'].dropna()"
   ]
  }
 ]
}