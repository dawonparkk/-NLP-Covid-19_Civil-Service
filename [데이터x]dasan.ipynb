{
 "cells": [
  {
   "cell_type": "markdown",
   "metadata": {},
   "source": [
    "# COVID-19와 서울 민원"
   ]
  },
  {
   "cell_type": "markdown",
   "metadata": {},
   "source": [
    "## 기본 테이블"
   ]
  },
  {
   "cell_type": "code",
   "execution_count": 1,
   "metadata": {},
   "outputs": [],
   "source": [
    "import pandas as pd\n",
    "import dask as dd\n",
    "import pickle"
   ]
  },
  {
   "cell_type": "code",
   "execution_count": 2,
   "metadata": {},
   "outputs": [],
   "source": [
    "with open('dasan_structured.bin','rb') as f:\n",
    "    df = pickle.load(f)"
   ]
  },
  {
   "cell_type": "code",
   "execution_count": null,
   "metadata": {},
   "outputs": [],
   "source": [
    "df"
   ]
  },
  {
   "cell_type": "code",
   "execution_count": 5,
   "metadata": {},
   "outputs": [
    {
     "data": {
      "text/plain": [
       "Index(['datetime', 'ctype', 'regist1', 'regist2', 'rdepart', 'pdepart',\n",
       "       'cate1', 'cate2', 'cate3', 'dist1', 'dist2', 'regist_method', 'X', 'Y'],\n",
       "      dtype='object')"
      ]
     },
     "execution_count": 5,
     "metadata": {},
     "output_type": "execute_result"
    }
   ],
   "source": [
    "df.columns"
   ]
  },
  {
   "cell_type": "code",
   "execution_count": 5,
   "metadata": {},
   "outputs": [
    {
     "data": {
      "text/plain": [
       "2020    2279820\n",
       "2019    2221531\n",
       "2018      10574\n",
       "2017          1\n",
       "2015          1\n",
       "Name: datetime, dtype: int64"
      ]
     },
     "execution_count": 5,
     "metadata": {},
     "output_type": "execute_result"
    }
   ],
   "source": [
    "df['datetime'].dt.year.value_counts()"
   ]
  },
  {
   "cell_type": "code",
   "execution_count": 7,
   "metadata": {},
   "outputs": [],
   "source": [
    "df['year'] = df['datetime'].dt.year"
   ]
  },
  {
   "cell_type": "code",
   "execution_count": 3,
   "metadata": {},
   "outputs": [
    {
     "data": {
      "text/plain": [
       "현장민원             3022901\n",
       "일반민원             1378921\n",
       "120이관처리(현장익명)      64258\n",
       "고충민원               22294\n",
       "직소민원               13058\n",
       "단순참고                8303\n",
       "제안                  1064\n",
       "민생침해                 682\n",
       "특화민원                 278\n",
       "신고(환경)               168\n",
       "Name: ctype, dtype: int64"
      ]
     },
     "execution_count": 3,
     "metadata": {},
     "output_type": "execute_result"
    }
   ],
   "source": [
    "df['ctype'].value_counts()"
   ]
  },
  {
   "cell_type": "code",
   "execution_count": 9,
   "metadata": {},
   "outputs": [
    {
     "data": {
      "text/plain": [
       "현장민원             1504940\n",
       "일반민원              659169\n",
       "120이관처리(현장익명)      34573\n",
       "고충민원               11234\n",
       "직소민원                6325\n",
       "단순참고                3642\n",
       "제안                  1001\n",
       "민생침해                 344\n",
       "특화민원                 196\n",
       "신고(환경)               107\n",
       "Name: ctype, dtype: int64"
      ]
     },
     "execution_count": 9,
     "metadata": {},
     "output_type": "execute_result"
    }
   ],
   "source": [
    "df[df['year']==2019]['ctype'].value_counts()"
   ]
  },
  {
   "cell_type": "code",
   "execution_count": 6,
   "metadata": {},
   "outputs": [
    {
     "data": {
      "text/plain": [
       "<pandas.core.groupby.generic.DataFrameGroupBy object at 0x7f96a3295d30>"
      ]
     },
     "execution_count": 6,
     "metadata": {},
     "output_type": "execute_result"
    }
   ],
   "source": [
    "df[df['year']==2020]['ctype'].value_counts()"
   ]
  },
  {
   "cell_type": "code",
   "execution_count": 5,
   "metadata": {},
   "outputs": [
    {
     "data": {
      "text/plain": [
       "다산콜재단        3150242\n",
       "시스템연계        1109937\n",
       "통합접수센터         97918\n",
       "홈페이지           68505\n",
       "모바일            44976\n",
       "포장도로관리시스템      39668\n",
       "SNS연계            681\n",
       "Name: regist1, dtype: int64"
      ]
     },
     "execution_count": 5,
     "metadata": {},
     "output_type": "execute_result"
    }
   ],
   "source": [
    "df['regist1'].value_counts()"
   ]
  },
  {
   "cell_type": "code",
   "execution_count": 8,
   "metadata": {},
   "outputs": [
    {
     "data": {
      "text/plain": [
       "스마트불편신고(앱)          1122367\n",
       "국민신문고               1076104\n",
       "120 전화상담             961067\n",
       "120 문자상담             712874\n",
       "스마트불편신고(앱) 과태료부과     220265\n",
       "챗봇상담                 133655\n",
       "통합접수민원                94211\n",
       "민원상담                  93362\n",
       "포트홀신고                 39668\n",
       "서대문구 새올행정정보시스템        33586\n",
       "원순씨에게바랍니다             11791\n",
       "직소민원                   3428\n",
       "서대문구청장에게바란다            3342\n",
       "시장에게바랍니다               1351\n",
       "민주주의서울                 1080\n",
       "민생침해신고                  689\n",
       "트위터                     681\n",
       "시장에게바란다                 648\n",
       "시장에게바란다(외국어)            363\n",
       "시도행정시스템                 247\n",
       "공직자비리신고                 225\n",
       "인권침해신고                  216\n",
       "공익신고                    148\n",
       "시민발언대                   131\n",
       "갑질피해신고                  112\n",
       "노동조사                     86\n",
       "찾아가는서울시청                 61\n",
       "서울시홈페이지(자유게시판)           49\n",
       "서울시홈페이지(바로잡기)            48\n",
       "본부장에게바랍니다                39\n",
       "하도급부조리                   17\n",
       "스마트불편신고(웹)               13\n",
       "퇴직공무원 특혜                  1\n",
       "영상상담                      1\n",
       "부정청탁                      1\n",
       "Name: regist2, dtype: int64"
      ]
     },
     "execution_count": 8,
     "metadata": {},
     "output_type": "execute_result"
    }
   ],
   "source": [
    "df['regist2'].value_counts()"
   ]
  },
  {
   "cell_type": "code",
   "execution_count": 21,
   "metadata": {},
   "outputs": [
    {
     "data": {
      "text/plain": [
       "120다산콜재단 운영본부       2881616\n",
       "시민소통기획관 시민봉사담당관     1357391\n",
       "120다산콜센터              97233\n",
       "                      78675\n",
       "구로구 안전건설국 건설관리과        6122\n",
       "                     ...   \n",
       "금천구 기획경제국 지역경제과           1\n",
       "서대문구 시설관리공단               1\n",
       "서울복지재단 전략경영본부             1\n",
       "송파구 도시관리국 부동산정보과          1\n",
       "기후환경본부 환경시민협력과            1\n",
       "Name: rdepart, Length: 342, dtype: int64"
      ]
     },
     "execution_count": 21,
     "metadata": {},
     "output_type": "execute_result"
    }
   ],
   "source": [
    "df['rdepart'].value_counts()"
   ]
  },
  {
   "cell_type": "code",
   "execution_count": 10,
   "metadata": {},
   "outputs": [
    {
     "data": {
      "text/plain": [
       "교통                    2867817\n",
       "가로정비                   240991\n",
       "청소                     189196\n",
       "기타 불편사항                175018\n",
       "환경/공원/상수도              146698\n",
       "도로                     143218\n",
       "환경                     115224\n",
       "건설                      98985\n",
       "주택/도시계획/부동산             93629\n",
       "기타                      91889\n",
       "보건                      68123\n",
       "기획/감사/교육/정보화/마을공동체      49834\n",
       "안전/소방/민방위               36390\n",
       "주택건축                    35684\n",
       "공원녹지                    33162\n",
       "건강/식품위생                 26717\n",
       "문화/관광/체육/디자인            26527\n",
       "치수방재                    25467\n",
       "코로나19                   16236\n",
       "복지/어르신/장애인              13718\n",
       "경제/일자리                   7233\n",
       "여성/보육/아동 청소년             3712\n",
       "                         3175\n",
       "세금/재정/계약                 2053\n",
       "소방안전                      559\n",
       "경제/산업                     345\n",
       "신고(환경)                    182\n",
       "범죄신고                      145\n",
       "Name: cate1, dtype: int64"
      ]
     },
     "execution_count": 10,
     "metadata": {},
     "output_type": "execute_result"
    }
   ],
   "source": [
    "df['cate1'].value_counts()"
   ]
  },
  {
   "cell_type": "code",
   "execution_count": 11,
   "metadata": {},
   "outputs": [
    {
     "data": {
      "text/plain": [
       "불법주정차(구도로)              1930747\n",
       "교통정책교통제도 도시철도            405766\n",
       "버스정책시내버스운송사업마을버스노선관리     251087\n",
       "건의/제안                    171235\n",
       "불법광고물                    134641\n",
       "                         ...   \n",
       "사법경찰                          3\n",
       "환경보전수사                        3\n",
       "유독물질유출불법소각                    1\n",
       "풍수해 안전사고 위험                   1\n",
       "주택가 감전사고 위험                   1\n",
       "Name: cate2, Length: 198, dtype: int64"
      ]
     },
     "execution_count": 11,
     "metadata": {},
     "output_type": "execute_result"
    }
   ],
   "source": [
    "df['cate2'].value_counts()"
   ]
  },
  {
   "cell_type": "code",
   "execution_count": 12,
   "metadata": {},
   "outputs": [
    {
     "data": {
      "text/plain": [
       "서울메트로·도시철도공사 지도감독    228585\n",
       "강남구                  210142\n",
       "시내·마을버스 노선           209926\n",
       "강동구                  199975\n",
       "마포구                  195898\n",
       "                      ...  \n",
       "특별사법경찰 유관기관 협력            1\n",
       "언론 인터뷰 브리핑                1\n",
       "행정포털                      1\n",
       "물시장해외진출 및 국내물시장육성         1\n",
       "기반시설부담금                   1\n",
       "Name: cate3, Length: 1345, dtype: int64"
      ]
     },
     "execution_count": 12,
     "metadata": {},
     "output_type": "execute_result"
    }
   ],
   "source": [
    "# cate3에는 소분류가 아니라 지역구 이름이 적힌 경우가 많음.\n",
    "df['cate3'].value_counts()"
   ]
  },
  {
   "cell_type": "code",
   "execution_count": 13,
   "metadata": {},
   "outputs": [
    {
     "data": {
      "text/plain": [
       "본청                  938292\n",
       "강남구                 228335\n",
       "강동구                 215570\n",
       "마포구                 205087\n",
       "송파구                 188194\n",
       "                     ...  \n",
       "공무원수련원                   2\n",
       "서울시사회서비스원                2\n",
       "서울공예박물관                  2\n",
       "동부병원                     1\n",
       "투자출자출연기관 서울기술연구원         1\n",
       "Name: dist1, Length: 90, dtype: int64"
      ]
     },
     "execution_count": 13,
     "metadata": {},
     "output_type": "execute_result"
    }
   ],
   "source": [
    "df['dist1'].value_counts()"
   ]
  },
  {
   "cell_type": "code",
   "execution_count": 14,
   "metadata": {},
   "outputs": [
    {
     "data": {
      "text/plain": [
       "본청(서울시)     1189954\n",
       "강남구          236679\n",
       "강동구          211113\n",
       "마포구          204604\n",
       "송파구          193673\n",
       "             ...   \n",
       "보건환경연구원           1\n",
       "서울시립교향악단          1\n",
       "서울역사박물관           1\n",
       "공무원수련원            1\n",
       "시립미술관             1\n",
       "Name: dist2, Length: 70, dtype: int64"
      ]
     },
     "execution_count": 14,
     "metadata": {},
     "output_type": "execute_result"
    }
   ],
   "source": [
    "df['dist2'].value_counts()"
   ]
  },
  {
   "cell_type": "code",
   "execution_count": null,
   "metadata": {},
   "outputs": [],
   "source": [
    "# 위경도 좌표가 있는 민원건은 150만건 (전체의 1/3)\n",
    "df[df['X'].map(lambda x:x!='')]"
   ]
  },
  {
   "cell_type": "code",
   "execution_count": null,
   "metadata": {},
   "outputs": [],
   "source": [
    "df[df['X'].map(lambda x:x=='')]"
   ]
  },
  {
   "cell_type": "markdown",
   "metadata": {},
   "source": [
    "## 형태소 포함 테이블"
   ]
  },
  {
   "cell_type": "code",
   "execution_count": 3,
   "metadata": {},
   "outputs": [],
   "source": [
    "with open('dasan_CN.bin','rb') as f:\n",
    "    df_CN = pickle.load(f)"
   ]
  },
  {
   "cell_type": "code",
   "execution_count": null,
   "metadata": {},
   "outputs": [],
   "source": [
    "df_CN"
   ]
  },
  {
   "cell_type": "code",
   "execution_count": 7,
   "metadata": {},
   "outputs": [
    {
     "data": {
      "text/plain": [
       "Index(['10819001', '10819008', '10819010', '10819011', '10819014', '10819019',\n",
       "       '10819024', '10819027', '10819031', '10819034',\n",
       "       ...\n",
       "       '15397673', '15397695', '15397703', '15397705', '15397708', '15397714',\n",
       "       '15397718', '15397721', '15397907', '15397982'],\n",
       "      dtype='object', name='serial', length=4501351)"
      ]
     },
     "execution_count": 7,
     "metadata": {},
     "output_type": "execute_result"
    }
   ],
   "source": [
    "df_CN.index"
   ]
  },
  {
   "cell_type": "code",
   "execution_count": 6,
   "metadata": {},
   "outputs": [
    {
     "data": {
      "text/plain": [
       "CN    [박원순, 서울, 시장님, 목동, 에서, 아파트, 용적율, 2종, 은, 목동, 13...\n",
       "Name: 10819001, dtype: object"
      ]
     },
     "execution_count": 6,
     "metadata": {},
     "output_type": "execute_result"
    }
   ],
   "source": [
    "df_CN.iloc[0]"
   ]
  },
  {
   "cell_type": "code",
   "execution_count": 16,
   "metadata": {},
   "outputs": [],
   "source": [
    "df_merge = df.join(df_CN,how='inner')"
   ]
  },
  {
   "cell_type": "code",
   "execution_count": null,
   "metadata": {},
   "outputs": [],
   "source": [
    "df_merge['CN'].dropna()"
   ]
  }
 ],
 "metadata": {
  "kernelspec": {
   "display_name": "Python 3",
   "language": "python",
   "name": "python3"
  },
  "language_info": {
   "codemirror_mode": {
    "name": "ipython",
    "version": 3
   },
   "file_extension": ".py",
   "mimetype": "text/x-python",
   "name": "python",
   "nbconvert_exporter": "python",
   "pygments_lexer": "ipython3",
   "version": "3.8.5"
  }
 },
 "nbformat": 4,
 "nbformat_minor": 2
}
